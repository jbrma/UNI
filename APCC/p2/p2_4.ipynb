{
 "cells": [
  {
   "cell_type": "code",
   "execution_count": 3,
   "id": "a0b03561-c0e2-4b15-ad1d-4cb11606596a",
   "metadata": {},
   "outputs": [
    {
     "name": "stdout",
     "output_type": "stream",
     "text": [
      "Traceback \u001b[1;36m(most recent call last)\u001b[0m:\n",
      "\u001b[1;36m  Input \u001b[1;32mIn [3]\u001b[1;36m in \u001b[1;35m<cell line: 3>\u001b[1;36m\u001b[0m\n",
      "\u001b[1;33m    from quantum_composer.providers.quantinuum import QuantinuumProvider\u001b[0m\n",
      "\u001b[1;31mModuleNotFoundError\u001b[0m\u001b[1;31m:\u001b[0m No module named 'quantum_composer'\n",
      "\n",
      "Use %tb to get the full traceback.\n"
     ]
    },
    {
     "data": {
      "text/html": [
       "\n",
       "<style>\n",
       ".button {\n",
       "  border: none;\n",
       "  color: white;\n",
       "  padding: 4px 8px;\n",
       "  text-align: center;\n",
       "  text-decoration: none;\n",
       "  display: inline-block;\n",
       "  font-size: 12px;\n",
       "  margin: 4px 2px;\n",
       "  transition-duration: 0.2s;\n",
       "  cursor: pointer;\n",
       "}\n",
       ".iqx-button {\n",
       "  background-color: #0f62fe; \n",
       "  color: white; \n",
       "}\n",
       ".iqx-button:hover {\n",
       "  background-color: #0043ce;\n",
       "  color: white;\n",
       "}\n",
       "</style>\n",
       "<a href=\"https://stackoverflow.com/search?q=ModuleNotFoundError: No module named 'quantum_composer'\" target='_blank'><button class='button iqx-button'>Search for solution online</button></a>\n"
      ],
      "text/plain": [
       "<IPython.core.display.HTML object>"
      ]
     },
     "metadata": {},
     "output_type": "display_data"
    }
   ],
   "source": [
    "from qiskit import *\n",
    "from qiskit.visualization import plot_histogram\n",
    "from quantum_composer.providers.quantinuum import QuantinuumProvider\n",
    "from quantum_composer.backends.quantinuum import QuantinuumBackend\n",
    "from pytket import Circuit\n",
    "from pytket.extensions.quantinuum import QuantinuumBackend\n",
    "\n",
    "\n",
    "# Configuración de la cuenta y proveedor\n",
    "provider = QuantinuumProvider(token='my token')\n",
    "backend = provider.get_backend('quantinuum.sim.h1-1e')\n",
    "\n",
    "\n",
    "# Creación del circuito cuántico\n",
    "q = QuantumRegister(2, name='q')\n",
    "c = ClassicalRegister(2, name='c')\n",
    "qc = QuantumCircuit(q, c, name='teleportation')\n",
    "\n",
    "# Creación del estado que se desea teleportar\n",
    "qc.h(q[0])\n",
    "qc.cx(q[0], q[1])\n",
    "\n",
    "# Creación del estado de Bell\n",
    "qc.h(q[1])\n",
    "qc.cx(q[1], q[0])\n",
    "qc.barrier()\n",
    "\n",
    "# Creación del canal de transmisión\n",
    "qc.cx(q[0], q[1])\n",
    "qc.h(q[0])\n",
    "qc.barrier()\n",
    "\n",
    "# Medición de los qubits y corrección del qubit de destino\n",
    "qc.measure(q[0], c[0])\n",
    "qc.measure(q[1], c[1])\n",
    "qc.z(q[1]).c_if(c, 1)\n",
    "qc.x(q[1]).c_if(c, 2)\n",
    "\n",
    "\n",
    "transp_circuit = backend.compile(qc)\n",
    "job = backend.run(transp_circuit)\n",
    "job_monitor(job)\n",
    "result = job.result()\n",
    "counts = result.get_counts(qc)\n",
    "\n",
    "\n",
    "# Impresión de los resultados\n",
    "print(counts)\n",
    "plot_histogram(counts)\n"
   ]
  },
  {
   "cell_type": "code",
   "execution_count": null,
   "id": "7b982ebd-ff7e-44e0-ae57-0819eb30adb2",
   "metadata": {},
   "outputs": [],
   "source": []
  }
 ],
 "metadata": {
  "kernelspec": {
   "display_name": "Python 3 (ipykernel)",
   "language": "python",
   "name": "python3"
  },
  "language_info": {
   "codemirror_mode": {
    "name": "ipython",
    "version": 3
   },
   "file_extension": ".py",
   "mimetype": "text/x-python",
   "name": "python",
   "nbconvert_exporter": "python",
   "pygments_lexer": "ipython3",
   "version": "3.8.15"
  },
  "widgets": {
   "application/vnd.jupyter.widget-state+json": {
    "state": {},
    "version_major": 2,
    "version_minor": 0
   }
  }
 },
 "nbformat": 4,
 "nbformat_minor": 5
}
