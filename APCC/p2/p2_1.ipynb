{
 "cells": [
  {
   "cell_type": "code",
   "execution_count": 10,
   "id": "84cedd2a-6ffc-4221-a530-ee1f7e38d7dd",
   "metadata": {},
   "outputs": [
    {
     "name": "stdout",
     "output_type": "stream",
     "text": [
      "{'11': 37, '01': 483, '00': 37, '10': 467}\n"
     ]
    },
    {
     "data": {
      "image/png": "[encoded data removed]",
      "text/plain": [
       "<Figure size 504x360 with 1 Axes>"
      ]
     },
     "execution_count": 10,
     "metadata": {},
     "output_type": "execute_result"
    }
   ],
   "source": [
    "from qiskit import *\n",
    "from qiskit.visualization import plot_histogram\n",
    "from qiskit.quantum_info import random_statevector\n",
    "\n",
    "# Creamos tres qubits, el que queremos teletransportar, uno auxiliar y otro de medición\n",
    "q = QuantumRegister(3, name='q') # qubit cuantico\n",
    "c = ClassicalRegister(2, name='c') # bit clasico\n",
    "qc = QuantumCircuit(q, c)\n",
    "\n",
    "# Create random 1-qubit state\n",
    "psi = random_statevector(2)\n",
    "\n",
    "# Preparamos el qubit que queremos teletransportar en un estado específico\n",
    "qc.initialize(psi, q[0])\n",
    "\n",
    "# Preparamos el estado de entrelazamiento entre el qubit auxiliar y el qubit de medición\n",
    "qc.h(q[1]) # Hadamard\n",
    "qc.cx(q[1], q[2]) # CNOT\n",
    "\n",
    "# Aplicamos las compuertas controladas para transferir el estado del qubit que queremos teletransportar al qubit auxiliar\n",
    "qc.cx(q[0], q[1]) # CNOT\n",
    "qc.h(q[0]) # Hadamard\n",
    "\n",
    "# Realizamos la medición del qubit auxiliar y del qubit de medición\n",
    "qc.measure(q[1], c[0])\n",
    "qc.measure(q[2], c[1])\n",
    "\n",
    "# Ejecutamos el circuito en un simulador local\n",
    "simulator = Aer.get_backend('qasm_simulator')\n",
    "result = execute(qc, simulator, shots=1024).result()\n",
    "counts = result.get_counts()\n",
    "\n",
    "# Imprimimos los resultados de la simulación\n",
    "print(counts)\n",
    "plot_histogram(counts)\n"
   ]
  },
  {
   "cell_type": "code",
   "execution_count": 12,
   "id": "9fd88fa8-ba1f-4e85-9168-5918692cfe78",
   "metadata": {},
   "outputs": [
    {
     "name": "stdout",
     "output_type": "stream",
     "text": [
      "{'11': 123, '01': 400, '00': 121, '10': 380}\n"
     ]
    },
    {
     "data": {
      "image/png": "[encoded data removed]",
      "text/plain": [
       "<Figure size 504x360 with 1 Axes>"
      ]
     },
     "execution_count": 12,
     "metadata": {},
     "output_type": "execute_result"
    }
   ],
   "source": [
    "from qiskit import *\n",
    "from qiskit.visualization import plot_histogram\n",
    "\n",
    "# Creamos tres qubits, el que queremos teletransportar, uno auxiliar y otro de medición\n",
    "q = QuantumRegister(3, name='q') # qubit cuantico\n",
    "c = ClassicalRegister(2, name='c') # bit clasico\n",
    "qc = QuantumCircuit(q, c)\n",
    "\n",
    "# Create random 1-qubit state\n",
    "psi = random_statevector(2)\n",
    "\n",
    "# Preparamos el qubit que queremos teletransportar en un estado específico\n",
    "qc.initialize(psi, q[0])\n",
    "\n",
    "# Preparamos el estado de entrelazamiento entre el qubit auxiliar y el qubit de medición\n",
    "qc.h(q[1]) # Hadamard\n",
    "qc.cx(q[1], q[2]) # CNOT\n",
    "\n",
    "# Aplicamos las compuertas controladas para transferir el estado del qubit que queremos teletransportar al qubit auxiliar\n",
    "qc.cx(q[0], q[1]) # CNOT\n",
    "qc.h(q[0]) # Hadamard\n",
    "\n",
    "# Realizamos la medición del qubit auxiliar y del qubit de medición\n",
    "qc.measure(q[1], c[0])\n",
    "qc.measure(q[2], c[1])\n",
    "\n",
    "# Ejecutamos el circuito en un simulador local\n",
    "simulator = Aer.get_backend('statevector_simulator')\n",
    "result = execute(qc, simulator, shots=1024).result()\n",
    "counts = result.get_counts()\n",
    "\n",
    "# Imprimimos los resultados de la simulación\n",
    "print(counts)\n",
    "plot_histogram(counts)\n"
   ]
  },
  {
   "cell_type": "code",
   "execution_count": 14,
   "id": "4de2ee8e-05ce-47c7-89e7-607c0bbbe922",
   "metadata": {},
   "outputs": [],
   "source": [
    "# En ambos simuladores se obtuvieron dos resultados mayormente visibles, cada uno con una probabilidad cercana al 50%.\n",
    "# El el estado cuántico original es aleatorio y desconocido, por lo que no podemos verificar visualmente que la implementación \n",
    "# haya funcionado correctamente. Sin embargo, podemos ver que el estado del qubit auxiliar se encuentra en una superposición de los estados |0⟩ y |1⟩,"
   ]
  },
  {
   "cell_type": "code",
   "execution_count": null,
   "id": "07347ea0-3764-48c2-8677-a5eed9caed88",
   "metadata": {},
   "outputs": [],
   "source": []
  }
 ],
 "metadata": {
  "kernelspec": {
   "display_name": "Python 3 (ipykernel)",
   "language": "python",
   "name": "python3"
  },
  "language_info": {
   "codemirror_mode": {
    "name": "ipython",
    "version": 3
   },
   "file_extension": ".py",
   "mimetype": "text/x-python",
   "name": "python",
   "nbconvert_exporter": "python",
   "pygments_lexer": "ipython3",
   "version": "3.8.15"
  },
  "widgets": {
   "application/vnd.jupyter.widget-state+json": {
    "state": {},
    "version_major": 2,
    "version_minor": 0
   }
  }
 },
 "nbformat": 4,
 "nbformat_minor": 5
}
