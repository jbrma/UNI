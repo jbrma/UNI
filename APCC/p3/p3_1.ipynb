{
 "cells": [
  {
   "cell_type": "code",
   "execution_count": 2,
   "id": "9d2e288e",
   "metadata": {},
   "outputs": [
    {
     "name": "stdout",
     "output_type": "stream",
     "text": [
      "\n",
      "Número de ocurrencias para 0 y 1: Counter({1: 503, 0: 497})\n"
     ]
    }
   ],
   "source": [
    "import cirq\n",
    "import numpy as np\n",
    "\n",
    "# Creamos un circuito cuántico\n",
    "circ = cirq.Circuit()\n",
    "\n",
    "# Añadimos una puerta Hadamard en el qubit 0\n",
    "qubit = cirq.GridQubit(0, 0)\n",
    "circ.append(cirq.H(qubit))\n",
    "\n",
    "# Añadimos una medición en el qubit 0\n",
    "circ.append(cirq.measure(qubit, key='result'))\n",
    "\n",
    "# Simulamos el circuito en local\n",
    "simulator = cirq.Simulator()\n",
    "result = simulator.run(circ, repetitions=1000)\n",
    "\n",
    "# Obtenemos los conteos de los resultados\n",
    "counts = result.histogram(key='result')\n",
    "print(\"\\nNúmero de ocurrencias para 0 y 1:\", counts)\n",
    "\n",
    "# Los resultados indican que la medición del qubit 0 del circuito \n",
    "# en cuestión ha producido 503 resultados con el valor binario de 1 y \n",
    "# 497 resultados con el valor binario de 0, en un total de 1000 ejecuciones.\n",
    "\n",
    "# Cuando se realiza una medición en este estado superpuesto, se colapsa a uno de los estados base, \n",
    "# en este caso, |0> o |1>, con una probabilidad del 50% para cada uno de ellos. "
   ]
  },
  {
   "cell_type": "code",
   "execution_count": null,
   "id": "c11da711",
   "metadata": {},
   "outputs": [],
   "source": []
  }
 ],
 "metadata": {
  "kernelspec": {
   "display_name": "Python 3 (ipykernel)",
   "language": "python",
   "name": "python3"
  },
  "language_info": {
   "codemirror_mode": {
    "name": "ipython",
    "version": 3
   },
   "file_extension": ".py",
   "mimetype": "text/x-python",
   "name": "python",
   "nbconvert_exporter": "python",
   "pygments_lexer": "ipython3",
   "version": "3.10.4"
  }
 },
 "nbformat": 4,
 "nbformat_minor": 5
}
