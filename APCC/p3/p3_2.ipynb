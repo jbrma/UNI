{
 "cells": [
  {
   "cell_type": "code",
   "execution_count": 2,
   "id": "a72b07f4",
   "metadata": {},
   "outputs": [
    {
     "name": "stdout",
     "output_type": "stream",
     "text": [
      "Counter({3: 76, 5: 74, 7: 71, 9: 70, 1: 68, 13: 67, 11: 67, 8: 66, 0: 61, 2: 61, 4: 59, 14: 55, 15: 54, 6: 54, 12: 52, 10: 45})\n"
     ]
    }
   ],
   "source": [
    "import cirq\n",
    "import numpy as np\n",
    "\n",
    "def qft(qubits):\n",
    "    circuit = cirq.Circuit()\n",
    "    for i in range(len(qubits)):\n",
    "        circuit.append(cirq.H(qubits[i]))\n",
    "        for j in range(i+1, len(qubits)):\n",
    "            circuit.append(cirq.CZ(qubits[i], qubits[j])**((2*np.pi)/2**(j-i)))\n",
    "    for i in range(len(qubits)//2):\n",
    "        circuit.append(cirq.SWAP(qubits[i], qubits[len(qubits)-1-i]))\n",
    "    return circuit\n",
    "\n",
    "def aqft(qubits, max_rotations):\n",
    "    circuit = cirq.Circuit()\n",
    "    for i in range(len(qubits)):\n",
    "        circuit.append(cirq.H(qubits[i]))\n",
    "        for j in range(i+1, min(i+max_rotations+1, len(qubits))):\n",
    "            circuit.append(cirq.CZ(qubits[i], qubits[j])**((2*np.pi)/2**(j-i)))\n",
    "    for i in range(len(qubits)//2):\n",
    "        circuit.append(cirq.SWAP(qubits[i], qubits[len(qubits)-1-i]))\n",
    "    return circuit\n",
    "\n",
    "\n",
    "qubits = cirq.LineQubit.range(4)\n",
    "\n",
    "# QFT\n",
    "circuit = qft(qubits)\n",
    "\n",
    "# Medición\n",
    "circuit.append(cirq.measure(*qubits, key='result'))\n",
    "\n",
    "# Simulación\n",
    "simulator = cirq.Simulator()\n",
    "result = simulator.run(circuit, repetitions=1000)\n",
    "\n",
    "# Resultado\n",
    "print(result.histogram(key='result'))\n",
    "\n"
   ]
  },
  {
   "cell_type": "code",
   "execution_count": null,
   "id": "a090f84a",
   "metadata": {},
   "outputs": [],
   "source": []
  }
 ],
 "metadata": {
  "kernelspec": {
   "display_name": "Python 3 (ipykernel)",
   "language": "python",
   "name": "python3"
  },
  "language_info": {
   "codemirror_mode": {
    "name": "ipython",
    "version": 3
   },
   "file_extension": ".py",
   "mimetype": "text/x-python",
   "name": "python",
   "nbconvert_exporter": "python",
   "pygments_lexer": "ipython3",
   "version": "3.10.4"
  }
 },
 "nbformat": 4,
 "nbformat_minor": 5
}
