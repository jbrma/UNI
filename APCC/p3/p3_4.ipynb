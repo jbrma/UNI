{
 "cells": [
  {
   "cell_type": "code",
   "execution_count": 3,
   "id": "364abc71-f5d9-4953-8706-83e1146b3939",
   "metadata": {
    "tags": []
   },
   "outputs": [
    {
     "name": "stderr",
     "output_type": "stream",
     "text": [
      "ibmqfactory.load_account:WARNING:2023-03-22 12:17:39,352: Credentials are already in use. The existing account in the session will be replaced.\n"
     ]
    },
    {
     "name": "stdout",
     "output_type": "stream",
     "text": [
      "Traceback \u001b[1;36m(most recent call last)\u001b[0m:\n",
      "\u001b[0m  Cell \u001b[0;32mIn[3], line 61\u001b[0m\n",
      "    circuit.append(draper_adder(qubits_A, qubits_B), [qubits_A, qubits_B])\u001b[0m\n",
      "\u001b[0m  Cell \u001b[0;32mIn[3], line 46\u001b[0m in \u001b[0;35mdraper_adder\u001b[0m\n",
      "    circuit.append(phase_sum(qubits_A, qubits_B), [qubits_A, qubits_B])\u001b[0m\n",
      "\u001b[0m  File \u001b[0;32m/opt/conda/lib/python3.10/site-packages/qiskit/circuit/quantumcircuit.py:1264\u001b[0m in \u001b[0;35mappend\u001b[0m\n",
      "    for qarg, carg in operation.broadcast_arguments(expanded_qargs, expanded_cargs):\u001b[0m\n",
      "\u001b[1;36m  File \u001b[1;32m/opt/conda/lib/python3.10/site-packages/qiskit/circuit/instruction.py:481\u001b[1;36m in \u001b[1;35mbroadcast_arguments\u001b[1;36m\n",
      "\u001b[1;33m    raise CircuitError(\u001b[1;36m\n",
      "\u001b[1;31mCircuitError\u001b[0m\u001b[1;31m:\u001b[0m 'The amount of qubit arguments 2 does not match the instruction expectation (8).'\n",
      "\n",
      "Use %tb to get the full traceback.\n"
     ]
    },
    {
     "data": {
      "text/html": [
       "\n",
       "<style>\n",
       ".button {\n",
       "  border: none;\n",
       "  color: white;\n",
       "  padding: 4px 8px;\n",
       "  text-align: center;\n",
       "  text-decoration: none;\n",
       "  display: inline-block;\n",
       "  font-size: 12px;\n",
       "  margin: 4px 2px;\n",
       "  transition-duration: 0.2s;\n",
       "  cursor: pointer;\n",
       "}\n",
       ".iqx-button {\n",
       "  background-color: #0f62fe; \n",
       "  color: white; \n",
       "}\n",
       ".iqx-button:hover {\n",
       "  background-color: #0043ce;\n",
       "  color: white;\n",
       "}\n",
       "</style>\n",
       "<a href=\"https://stackoverflow.com/search?q=CircuitError: The amount of qubit arguments 2 does not match the instruction expectation (8).\" target='_blank'><button class='button iqx-button'>Search for solution online</button></a>\n"
      ],
      "text/plain": [
       "<IPython.core.display.HTML object>"
      ]
     },
     "metadata": {},
     "output_type": "display_data"
    }
   ],
   "source": [
    "import qiskit as q\n",
    "from qiskit import QuantumCircuit, QuantumRegister, ClassicalRegister, Aer, IBMQ, execute\n",
    "\n",
    "# Configuramos las credenciales de IBMQ\n",
    "IBMQ.save_account('151c59e6f71d7a5c2788c4c846aa50a37456463c6cb37c8ef8d6ef006552e8136b86bcaffb196a892bbd7d9176c1239869df90a56891ef40cc4b849819001e6b',\n",
    "                  hub='ibm-q-education', group='uni-comp-madrid-1', project='architecure-prog', overwrite=True)\n",
    "provider = IBMQ.load_account()\n",
    "\n",
    "\n",
    "def qft(qubits):\n",
    "    circuit = QuantumCircuit(qubits)\n",
    "    for i in range(len(qubits)):\n",
    "        circuit.h(qubits[i])\n",
    "        for j in range(i+1, len(qubits)):\n",
    "            circuit.cp(2*np.pi/2**(j-i), qubits[j], qubits[i])\n",
    "    for i in range(len(qubits)//2):\n",
    "        circuit.swap(qubits[i], qubits[len(qubits)-1-i])\n",
    "    return circuit\n",
    "\n",
    "def aqft(qubits, max_rotations):\n",
    "    circuit = QuantumCircuit(qubits)\n",
    "    for i in range(len(qubits)):\n",
    "        circuit.h(qubits[i])\n",
    "        for j in range(i+1, min(i+max_rotations+1, len(qubits))):\n",
    "            circuit.cp(2*np.pi/2**(j-i), qubits[j], qubits[i])\n",
    "    for i in range(len(qubits)//2):\n",
    "        circuit.swap(qubits[i], qubits[len(qubits)-1-i])\n",
    "    return circuit\n",
    "\n",
    "def phase_sum(qubits_A, qubits_B):\n",
    "    circuit = QuantumCircuit(qubits_A, qubits_B)\n",
    "    for i, q_A in enumerate(qubits_A):\n",
    "        for j, q_B in enumerate(qubits_B):\n",
    "            if j <= i:\n",
    "                angle = np.pi/2**(i-j)\n",
    "                circuit.cp(angle, q_B, q_A)\n",
    "    return circuit\n",
    "\n",
    "def draper_adder(qubits_A, qubits_B):\n",
    "    circuit = QuantumCircuit(qubits_A, qubits_B)\n",
    "\n",
    "    # QFT\n",
    "    circuit.append(qft(qubits_A), qubits_A)\n",
    "\n",
    "    # Suma en el dominio de la fase\n",
    "    circuit.append(phase_sum(qubits_A, qubits_B), [qubits_A, qubits_B])\n",
    "\n",
    "    # AQFT\n",
    "    circuit.append(aqft(qubits_A, 2), qubits_A)\n",
    "\n",
    "    # QFT inversa\n",
    "    circuit.append(qft(qubits_A).inverse(), qubits_A)\n",
    "\n",
    "    return circuit\n",
    "\n",
    "qubits_A = QuantumRegister(4, 'q')\n",
    "qubits_B = QuantumRegister(4, 'r')\n",
    "\n",
    "circuit = QuantumCircuit(qubits_A, qubits_B, ClassicalRegister(8))\n",
    "\n",
    "circuit.append(draper_adder(qubits_A, qubits_B), [qubits_A, qubits_B])\n",
    "\n",
    "circuit.measure(qubits_A, range(4))\n",
    "circuit.measure(qubits_B, range(4, 8))\n",
    "\n",
    "# Seleccionamos el backend donde queremos ejecutar el circuito\n",
    "backend = provider.backend.ibmq_lima\n",
    "\n",
    "# Ejecutamos el circuito en el backend\n",
    "job = execute(circuit, backend=backend, shots=8192)\n",
    "\n",
    "# Obtenemos los resultados de la ejecución\n",
    "result = job.result()\n",
    "\n",
    "# Imprimimos los resultados\n",
    "print(result.get_counts())\n",
    "\n",
    "\n",
    "# No he sido capaz de solucionar el error que salta al llamar la funcion\n",
    "# phase_sum, he intentado pasarlo como un solo qubit pero tampoco ha servido"
   ]
  },
  {
   "cell_type": "code",
   "execution_count": null,
   "id": "bd79bc27-a541-4334-bd96-fc3183d5b9f7",
   "metadata": {},
   "outputs": [],
   "source": []
  }
 ],
 "metadata": {
  "kernelspec": {
   "display_name": "Python 3 (ipykernel)",
   "language": "python",
   "name": "python3"
  },
  "language_info": {
   "codemirror_mode": {
    "name": "ipython",
    "version": 3
   },
   "file_extension": ".py",
   "mimetype": "text/x-python",
   "name": "python",
   "nbconvert_exporter": "python",
   "pygments_lexer": "ipython3",
   "version": "3.10.8"
  },
  "widgets": {
   "application/vnd.jupyter.widget-state+json": {
    "state": {},
    "version_major": 2,
    "version_minor": 0
   }
  }
 },
 "nbformat": 4,
 "nbformat_minor": 5
}
