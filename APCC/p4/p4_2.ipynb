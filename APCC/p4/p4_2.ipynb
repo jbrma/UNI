{
 "cells": [
  {
   "cell_type": "code",
   "execution_count": 11,
   "id": "fca52f6d",
   "metadata": {},
   "outputs": [
    {
     "name": "stdout",
     "output_type": "stream",
     "text": [
      "Counter({(1, 1): 269, (0, 1): 265, (0, 0): 257, (1, 0): 233})\n"
     ]
    }
   ],
   "source": [
    "from pytket import Circuit\n",
    "from pytket.extensions.qiskit import AerBackend\n",
    "from pytket.qasm import circuit_to_qasm\n",
    "\n",
    "def deutsch_fx(circ: Circuit):\n",
    "    # Aplicamos la puerta H al primer qubit\n",
    "    circ.H(0)\n",
    "    # Aplicamos la puerta H al segundo qubit\n",
    "    circ.H(1)\n",
    "    # Aplicamos el oráculo\n",
    "    circ.CX(0,2)\n",
    "    circ.CX(1,2)\n",
    "    # Aplicamos la puerta H al primer qubit\n",
    "    circ.H(0)\n",
    "    # Medimos los dos primeros qubits\n",
    "    circ.Measure(0, 0)\n",
    "    circ.Measure(1, 1)\n",
    "\n",
    "# Creamos un circuito con 3 qubits y 2 clbits\n",
    "circ = Circuit(3, 2)\n",
    "\n",
    "# Aplicamos la función deutsch_fx\n",
    "deutsch_fx(circ)\n",
    "\n",
    "\n",
    "backend = AerBackend()\n",
    "job = backend.process_circuit(circ, n_shots=1024)\n",
    "result = backend.get_result(job)\n",
    "counts = result.get_counts()\n",
    "print(counts)\n",
    "\n",
    "# Los resultados obtenidos muestran que se midieron 269 veces el estado (1,1),\n",
    "# lo que indica que el qubit auxiliar estaba en el estado |1⟩, y 233 veces\n",
    "# el estado (1,0), lo que indica que el qubit auxiliar estaba en el estado|0⟩.\n",
    "# Esto significa que la función implementada en el circuito de Deutsch es constante, \n",
    "# ya que el estado final del qubit auxiliar siempre fue el mismo, \n",
    "# independientemente de los valores de entrada de los qubits de entrada. "
   ]
  },
  {
   "cell_type": "code",
   "execution_count": null,
   "id": "d1d73041",
   "metadata": {},
   "outputs": [],
   "source": []
  },
  {
   "cell_type": "code",
   "execution_count": null,
   "id": "be485330",
   "metadata": {},
   "outputs": [],
   "source": []
  }
 ],
 "metadata": {
  "kernelspec": {
   "display_name": "Python 3 (ipykernel)",
   "language": "python",
   "name": "python3"
  },
  "language_info": {
   "codemirror_mode": {
    "name": "ipython",
    "version": 3
   },
   "file_extension": ".py",
   "mimetype": "text/x-python",
   "name": "python",
   "nbconvert_exporter": "python",
   "pygments_lexer": "ipython3",
   "version": "3.10.4"
  }
 },
 "nbformat": 4,
 "nbformat_minor": 5
}
