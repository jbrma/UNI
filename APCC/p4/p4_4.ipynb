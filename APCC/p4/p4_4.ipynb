{
 "cells": [
  {
   "cell_type": "code",
   "execution_count": 7,
   "id": "4cca57db-9c37-4f3f-8f4c-04b47ce28ade",
   "metadata": {
    "tags": []
   },
   "outputs": [
    {
     "name": "stderr",
     "output_type": "stream",
     "text": [
      "ibmqfactory.load_account:WARNING:2023-04-04 15:33:42,861: Credentials are already in use. The existing account in the session will be replaced.\n"
     ]
    },
    {
     "name": "stdout",
     "output_type": "stream",
     "text": [
      "Función constante:\n",
      "{'0': 1024}\n",
      "\n",
      "Función balanceada:\n",
      "{'0': 1024}\n",
      "\n",
      "Ejecución en backend de IBM:\n",
      "{'0': 957, '1': 67}\n"
     ]
    }
   ],
   "source": [
    "from qiskit import QuantumCircuit, QuantumRegister, ClassicalRegister, execute, IBMQ, Aer\n",
    "\n",
    "# Configuramos las credenciales de IBMQ\n",
    "IBMQ.save_account('151c59e6f71d7a5c2788c4c846aa50a37456463c6cb37c8ef8d6ef006552e8136b86bcaffb196a892bbd7d9176c1239869df90a56891ef40cc4b849819001e6b',\n",
    "                  hub='ibm-q-education', group='uni-comp-madrid-1', project='architecure-prog', overwrite=True)\n",
    "provider = IBMQ.load_account()\n",
    "\n",
    "# Función constante\n",
    "def oracle_constant(circ):\n",
    "    circ.cx(0, 1)\n",
    "    circ.barrier()\n",
    "\n",
    "# Función balanceada\n",
    "def oracle_balanced(circ):\n",
    "    circ.cx(0, 2)\n",
    "    circ.barrier()\n",
    "    circ.cx(1, 2)\n",
    "\n",
    "# Algoritmo de Deutsch-Jozsa para 2 qubits\n",
    "def deutsch_jozsa_2qubits(oracle, backend):\n",
    "    qr = QuantumRegister(3)\n",
    "    cr = ClassicalRegister(1)\n",
    "    circ = QuantumCircuit(qr, cr)\n",
    "    \n",
    "    circ.h(qr)\n",
    "    oracle(circ)\n",
    "    circ.h(qr[0:2])\n",
    "    circ.measure(qr[0], cr)\n",
    "    \n",
    "    job = execute(circ, backend=backend, shots=1024)\n",
    "    counts = job.result().get_counts(circ)\n",
    "    return counts\n",
    "\n",
    "\n",
    "# Ejecutar el algoritmo con las dos funciones en un simulador Aer\n",
    "print(\"Función constante:\")\n",
    "backend = Aer.get_backend('qasm_simulator')\n",
    "counts = deutsch_jozsa_2qubits(oracle_constant, backend)\n",
    "print(counts)\n",
    "\n",
    "print(\"\\nFunción balanceada:\")\n",
    "counts2 = deutsch_jozsa_2qubits(oracle_balanced, backend)\n",
    "print(counts2)\n",
    "\n",
    "# Ejecutar el algoritmo con las dos funciones en un backend real de IBM\n",
    "print(\"\\nEjecución en backend de IBM:\")\n",
    "backend = provider.backend.ibmq_belem\n",
    "counts3 = deutsch_jozsa_2qubits(oracle_constant, backend)\n",
    "print(counts3)\n",
    "\n",
    "\n",
    "# Los resultados de las funciones constantes y balanceadas en el simulador Aer son correctos ya\n",
    "# que ambos dan como resultado solamente el estado 0 con una probabilidad de 100%.\n",
    "# En cuanto a la ejecución en el backend real de IBM, se puede ver que hay un poco de ruido en los resultados\n",
    "# ya que hay una pequeña probabilidad de obtener un estado 1."
   ]
  },
  {
   "cell_type": "code",
   "execution_count": null,
   "id": "aaac5480-f46f-4131-926f-421567967e37",
   "metadata": {},
   "outputs": [],
   "source": []
  }
 ],
 "metadata": {
  "kernelspec": {
   "display_name": "Python 3 (ipykernel)",
   "language": "python",
   "name": "python3"
  },
  "language_info": {
   "codemirror_mode": {
    "name": "ipython",
    "version": 3
   },
   "file_extension": ".py",
   "mimetype": "text/x-python",
   "name": "python",
   "nbconvert_exporter": "python",
   "pygments_lexer": "ipython3",
   "version": "3.10.8"
  },
  "widgets": {
   "application/vnd.jupyter.widget-state+json": {
    "state": {},
    "version_major": 2,
    "version_minor": 0
   }
  }
 },
 "nbformat": 4,
 "nbformat_minor": 5
}
