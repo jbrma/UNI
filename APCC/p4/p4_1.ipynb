{
 "cells": [
  {
   "cell_type": "code",
   "execution_count": 8,
   "id": "26b510df",
   "metadata": {},
   "outputs": [
    {
     "name": "stdout",
     "output_type": "stream",
     "text": [
      "\n",
      "Número de ocurrencias para 0 y 1: Counter({(1,): 507, (0,): 493})\n"
     ]
    }
   ],
   "source": [
    "from pytket.circuit import Circuit\n",
    "from pytket.extensions.qiskit import AerBackend\n",
    "\n",
    "# Creamos un circuito cuántico\n",
    "circ = Circuit(1, 1)\n",
    "\n",
    "# Añadimos una puerta Hadamard en el qubit 0\n",
    "circ.H(0)\n",
    "\n",
    "# Añadimos una medición en el qubit 0\n",
    "circ.Measure(0, 0)\n",
    "\n",
    "# Simulamos el circuito en local\n",
    "backend = AerBackend()\n",
    "result_handle = backend.process_circuit(circ, n_shots=1000)\n",
    "\n",
    "# Obtenemos los conteos de los resultados\n",
    "result = backend.get_result(result_handle)\n",
    "counts = result.get_counts()\n",
    "print(\"\\nNúmero de ocurrencias para 0 y 1:\", counts)\n"
   ]
  },
  {
   "cell_type": "code",
   "execution_count": null,
   "id": "c449cf1d",
   "metadata": {},
   "outputs": [],
   "source": []
  }
 ],
 "metadata": {
  "kernelspec": {
   "display_name": "Python 3 (ipykernel)",
   "language": "python",
   "name": "python3"
  },
  "language_info": {
   "codemirror_mode": {
    "name": "ipython",
    "version": 3
   },
   "file_extension": ".py",
   "mimetype": "text/x-python",
   "name": "python",
   "nbconvert_exporter": "python",
   "pygments_lexer": "ipython3",
   "version": "3.10.4"
  }
 },
 "nbformat": 4,
 "nbformat_minor": 5
}
