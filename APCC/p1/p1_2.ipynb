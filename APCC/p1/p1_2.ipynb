{
 "cells": [
  {
   "cell_type": "code",
   "execution_count": 1,
   "id": "dd8c94cd",
   "metadata": {},
   "outputs": [
    {
     "name": "stdout",
     "output_type": "stream",
     "text": [
      "{'100': 123, '001': 119, '000': 146, '010': 135, '011': 126, '111': 118, '101': 121, '110': 136}\n"
     ]
    },
    {
     "data": {
      "text/html": [
       "<pre style=\"word-wrap: normal;white-space: pre;background: #fff0;line-height: 1.1;font-family: &quot;Courier New&quot;,Courier,monospace\">      ┌───┐┌───┐     ┌─┐   \n",
       "q0_0: ┤ X ├┤ H ├──■──┤M├───\n",
       "      ├───┤├───┤┌─┴─┐└╥┘┌─┐\n",
       "q0_1: ┤ X ├┤ H ├┤ X ├─╫─┤M├\n",
       "      ├───┤├───┤└┬─┬┘ ║ └╥┘\n",
       "q0_2: ┤ X ├┤ H ├─┤M├──╫──╫─\n",
       "      └───┘└───┘ └╥┘  ║  ║ \n",
       "c0: 3/════════════╩═══╩══╩═\n",
       "                  2   0  1 </pre>"
      ],
      "text/plain": [
       "      ┌───┐┌───┐     ┌─┐   \n",
       "q0_0: ┤ X ├┤ H ├──■──┤M├───\n",
       "      ├───┤├───┤┌─┴─┐└╥┘┌─┐\n",
       "q0_1: ┤ X ├┤ H ├┤ X ├─╫─┤M├\n",
       "      ├───┤├───┤└┬─┬┘ ║ └╥┘\n",
       "q0_2: ┤ X ├┤ H ├─┤M├──╫──╫─\n",
       "      └───┘└───┘ └╥┘  ║  ║ \n",
       "c0: 3/════════════╩═══╩══╩═\n",
       "                  2   0  1 "
      ]
     },
     "execution_count": 1,
     "metadata": {},
     "output_type": "execute_result"
    }
   ],
   "source": [
    "from qiskit import(\n",
    "\tQuantumCircuit,\n",
    "\tQuantumRegister,\n",
    "\tClassicalRegister,\n",
    "\texecute,\n",
    "\tAer)\n",
    "\n",
    "backend_sim = Aer.get_backend('qasm_simulator')\n",
    "\n",
    "#Crea registros cuanticos y clasicos\n",
    "q = QuantumRegister(3)\n",
    "c = ClassicalRegister(3)\n",
    "\n",
    "#Crea circuito\n",
    "circuit = QuantumCircuit(q, c)\n",
    "\n",
    "#Inicializa qubits a |0>\n",
    "circuit.x(q[0])\n",
    "circuit.x(q[1])\n",
    "circuit.x(q[2])\n",
    "\n",
    "#Hadamard\n",
    "circuit.h(q[0])\n",
    "circuit.h(q[1])\n",
    "circuit.h(q[2])\n",
    "\n",
    "#CNOT\n",
    "circuit.cx(q[0], q[1])\n",
    "\n",
    "#Medimos ambos qubits\n",
    "circuit.measure(q, c)\n",
    "\n",
    "job = execute(circuit, backend_sim, shots=1024)\n",
    "result = job.result()\n",
    "counts = result.get_counts(circuit)\n",
    "print(counts)\n",
    "circuit.draw()\n"
   ]
  },
  {
   "cell_type": "code",
   "execution_count": 3,
   "id": "e441fc87-1519-45d1-b2fe-ec083076beea",
   "metadata": {},
   "outputs": [
    {
     "name": "stderr",
     "output_type": "stream",
     "text": [
      "ibmqfactory.load_account:WARNING:2023-02-21 11:43:44,915: Credentials are already in use. The existing account in the session will be replaced.\n"
     ]
    },
    {
     "name": "stdout",
     "output_type": "stream",
     "text": [
      "{'000': 144, '001': 153, '010': 131, '011': 136, '100': 139, '101': 108, '110': 107, '111': 106}\n"
     ]
    },
    {
     "data": {
      "image/png": "[encoded data removed]",
      "text/plain": [
       "<Figure size 413.995x264.88 with 1 Axes>"
      ]
     },
     "execution_count": 3,
     "metadata": {},
     "output_type": "execute_result"
    }
   ],
   "source": [
    "from qiskit import(\n",
    "\tQuantumCircuit,\n",
    "\tQuantumRegister,\n",
    "\tClassicalRegister,\n",
    "\texecute,\n",
    "\tAer)\n",
    "\n",
    "backend_sim = Aer.get_backend('qasm_simulator')\n",
    "\n",
    "#Crea registros cuanticos y clasicos\n",
    "q = QuantumRegister(3)\n",
    "c = ClassicalRegister(3)\n",
    "\n",
    "#Crea circuito\n",
    "circuit = QuantumCircuit(q, c)\n",
    "\n",
    "#Inicializa qubits a |0>\n",
    "circuit.x(q[0])\n",
    "circuit.x(q[1])\n",
    "circuit.x(q[2])\n",
    "\n",
    "#Hadamard\n",
    "circuit.h(q[0])\n",
    "circuit.h(q[1])\n",
    "circuit.h(q[2])\n",
    "\n",
    "#CNOT\n",
    "circuit.cx(q[0], q[1])\n",
    "\n",
    "#Medimos ambos qubits\n",
    "circuit.measure(q, c)\n",
    "\n",
    "from qiskit import IBMQ\n",
    "IBMQ.load_account() # Conectamos con la cuenta de IBMQ\n",
    "provider = IBMQ.get_provider(hub='ibm-q')\n",
    "backend = provider.get_backend('ibmq_lima') # Elegimos el backend\n",
    "job = execute(circuit, backend, shots=1024)\n",
    "result = job.result()\n",
    "counts = result.get_counts(circuit)\n",
    "print(counts)\n",
    "\n",
    "circuit.draw()"
   ]
  },
  {
   "cell_type": "code",
   "execution_count": null,
   "id": "2e7805a9-342b-49e5-bbb0-df91ec64616c",
   "metadata": {},
   "outputs": [],
   "source": []
  }
 ],
 "metadata": {
  "kernelspec": {
   "display_name": "Python 3 (ipykernel)",
   "language": "python",
   "name": "python3"
  },
  "language_info": {
   "codemirror_mode": {
    "name": "ipython",
    "version": 3
   },
   "file_extension": ".py",
   "mimetype": "text/x-python",
   "name": "python",
   "nbconvert_exporter": "python",
   "pygments_lexer": "ipython3",
   "version": "3.8.12"
  },
  "widgets": {
   "application/vnd.jupyter.widget-state+json": {
    "state": {},
    "version_major": 2,
    "version_minor": 0
   }
  }
 },
 "nbformat": 4,
 "nbformat_minor": 5
}
