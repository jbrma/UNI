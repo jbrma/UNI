{
 "cells": [
  {
   "cell_type": "code",
   "execution_count": 1,
   "id": "06ff498c",
   "metadata": {},
   "outputs": [
    {
     "name": "stdout",
     "output_type": "stream",
     "text": [
      "{'11': 496, '00': 528}\n"
     ]
    },
    {
     "data": {
      "text/html": [
       "<pre style=\"word-wrap: normal;white-space: pre;background: #fff0;line-height: 1.1;font-family: &quot;Courier New&quot;,Courier,monospace\">      ┌───┐     ┌─┐   \n",
       "q0_0: ┤ H ├──■──┤M├───\n",
       "      └───┘┌─┴─┐└╥┘┌─┐\n",
       "q0_1: ─────┤ X ├─╫─┤M├\n",
       "           └───┘ ║ └╥┘\n",
       "c0: 2/═══════════╩══╩═\n",
       "                 0  1 </pre>"
      ],
      "text/plain": [
       "      ┌───┐     ┌─┐   \n",
       "q0_0: ┤ H ├──■──┤M├───\n",
       "      └───┘┌─┴─┐└╥┘┌─┐\n",
       "q0_1: ─────┤ X ├─╫─┤M├\n",
       "           └───┘ ║ └╥┘\n",
       "c0: 2/═══════════╩══╩═\n",
       "                 0  1 "
      ]
     },
     "execution_count": 1,
     "metadata": {},
     "output_type": "execute_result"
    }
   ],
   "source": [
    "from qiskit import(\n",
    "\tQuantumCircuit,\n",
    "\tQuantumRegister,\n",
    "\tClassicalRegister,\n",
    "\texecute,\n",
    "\tAer)\n",
    "\n",
    "backend_sim = Aer.get_backend('qasm_simulator')\n",
    "\n",
    "#Crea registros cuanticos y clasicos\n",
    "q = QuantumRegister(2)\n",
    "c = ClassicalRegister(2)\n",
    "\n",
    "#Crea circuito\n",
    "circuit = QuantumCircuit(q, c)\n",
    "\n",
    "#Hadamard en el primer qubit\n",
    "circuit.h(q[0])\n",
    "\n",
    "#CNOT en el circuito\n",
    "circuit.cx(q[0], q[1])\n",
    "\n",
    "#Medimos ambos qubits\n",
    "circuit.measure(q, c)\n",
    "\n",
    "job = execute(circuit, backend_sim, shots=1024)\n",
    "result = job.result()\n",
    "counts = result.get_counts(circuit)\n",
    "print(counts)\n",
    "circuit.draw()\n"
   ]
  },
  {
   "cell_type": "code",
   "execution_count": 3,
   "id": "44fecaec",
   "metadata": {},
   "outputs": [
    {
     "name": "stdout",
     "output_type": "stream",
     "text": [
      "{'00': 508, '11': 516}\n"
     ]
    },
    {
     "data": {
      "image/png": "[encoded data removed]",
      "text/plain": [
       "<Figure size 340.378x204.68 with 1 Axes>"
      ]
     },
     "execution_count": 3,
     "metadata": {},
     "output_type": "execute_result"
    }
   ],
   "source": [
    "from qiskit import(\n",
    "\tQuantumCircuit,\n",
    "\tQuantumRegister,\n",
    "\tClassicalRegister,\n",
    "\texecute,\n",
    "\tAer)\n",
    "\n",
    "backend_sim = Aer.get_backend('statevector_simulator')\n",
    "\n",
    "#Crea registros cuanticos y clasicos\n",
    "q = QuantumRegister(2)\n",
    "c = ClassicalRegister(2)\n",
    "\n",
    "#Crea circuito\n",
    "circuit = QuantumCircuit(q, c)\n",
    "\n",
    "#Hadamard en el primer qubit\n",
    "circuit.h(q[0])\n",
    "\n",
    "#CNOT en el circuito\n",
    "circuit.cx(q[0], q[1])\n",
    "\n",
    "#Medimos ambos qubits\n",
    "circuit.measure(q, c)\n",
    "\n",
    "job = execute(circuit, backend_sim, shots=1024)\n",
    "result = job.result()\n",
    "counts = result.get_counts(circuit)\n",
    "print(counts)\n",
    "circuit.draw()\n"
   ]
  },
  {
   "cell_type": "code",
   "execution_count": 1,
   "id": "b1f26519-0a37-4591-833a-95e5c3265b06",
   "metadata": {},
   "outputs": [
    {
     "name": "stderr",
     "output_type": "stream",
     "text": [
      "<frozen importlib._bootstrap>:219: RuntimeWarning: scipy._lib.messagestream.MessageStream size changed, may indicate binary incompatibility. Expected 56 from C header, got 64 from PyObject\n"
     ]
    },
    {
     "name": "stdout",
     "output_type": "stream",
     "text": [
      "{'00': 1024}\n"
     ]
    },
    {
     "data": {
      "image/png": "[encoded data removed]",
      "text/plain": [
       "<Figure size 219.833x204.68 with 1 Axes>"
      ]
     },
     "execution_count": 1,
     "metadata": {},
     "output_type": "execute_result"
    }
   ],
   "source": [
    "from qiskit import(\n",
    "\tQuantumCircuit,\n",
    "\tQuantumRegister,\n",
    "\tClassicalRegister,\n",
    "\texecute,\n",
    "\tAer)\n",
    "\n",
    "backend_sim = Aer.get_backend('unitary_simulator')\n",
    "\n",
    "#Crea registros cuanticos y clasicos\n",
    "q = QuantumRegister(2)\n",
    "c = ClassicalRegister(2)\n",
    "\n",
    "#Crea circuito\n",
    "circuit = QuantumCircuit(q, c)\n",
    "\n",
    "#Hadamard en el primer qubit\n",
    "circuit.h(q[0])\n",
    "\n",
    "#CNOT en el circuito\n",
    "circuit.cx(q[0], q[1])\n",
    "\n",
    "#Medimos ambos qubits\n",
    "#circuit.measure(q, c)\n",
    "\n",
    "job = execute(circuit, backend_sim, shots=1024)\n",
    "result = job.result()\n",
    "counts = result.get_counts(circuit)\n",
    "print(counts)\n",
    "circuit.draw()"
   ]
  },
  {
   "cell_type": "code",
   "execution_count": 2,
   "id": "0adc925d-b67d-4a20-93c4-acdb2ec3111d",
   "metadata": {},
   "outputs": [],
   "source": [
    "#qasm_simulator: es un simulador que simula la ejecución de un circuito cuántico\n",
    "#en un ambiente con ruido similar al de un computador cuántico real, y devuelve las frecuencias de medición.\n",
    "\n",
    "#statevector_simulator: es un simulador que simula la ejecución de un circuito cuántico en un ambiente sin ruido\n",
    "#y devuelve el vector de estado resultante.\n",
    "\n",
    "#unitary_simulator: es un simulador que simula la ejecución de un circuito cuántico en un ambiente sin ruido y\n",
    "#devuelve la matriz unitaria resultante.\n",
    "\n"
   ]
  },
  {
   "cell_type": "code",
   "execution_count": null,
   "id": "47a5045c-7d87-4821-95b6-0e362c5c3f0b",
   "metadata": {},
   "outputs": [],
   "source": []
  }
 ],
 "metadata": {
  "kernelspec": {
   "display_name": "Python 3 (ipykernel)",
   "language": "python",
   "name": "python3"
  },
  "language_info": {
   "codemirror_mode": {
    "name": "ipython",
    "version": 3
   },
   "file_extension": ".py",
   "mimetype": "text/x-python",
   "name": "python",
   "nbconvert_exporter": "python",
   "pygments_lexer": "ipython3",
   "version": "3.8.12"
  },
  "widgets": {
   "application/vnd.jupyter.widget-state+json": {
    "state": {},
    "version_major": 2,
    "version_minor": 0
   }
  }
 },
 "nbformat": 4,
 "nbformat_minor": 5
}
