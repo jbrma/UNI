{
 "cells": [
  {
   "cell_type": "code",
   "execution_count": 1,
   "id": "b1f26519-0a37-4591-833a-95e5c3265b06",
   "metadata": {},
   "outputs": [
    {
     "name": "stderr",
     "output_type": "stream",
     "text": [
      "<frozen importlib._bootstrap>:219: RuntimeWarning: scipy._lib.messagestream.MessageStream size changed, may indicate binary incompatibility. Expected 56 from C header, got 64 from PyObject\n"
     ]
    },
    {
     "name": "stdout",
     "output_type": "stream",
     "text": [
      "Traceback \u001b[1;36m(most recent call last)\u001b[0m:\n",
      "  Input \u001b[0;32mIn [1]\u001b[0m in \u001b[0;35m<cell line: 27>\u001b[0m\n",
      "    plot_histogram([results_noise.get_counts(ghz), results_real.get_counts(ghz)], legend=['Noise','Real Computer'])\n",
      "\u001b[1;36m  File \u001b[1;32m/opt/conda/lib/python3.8/site-packages/qiskit/result/result.py:289\u001b[1;36m in \u001b[1;35mget_counts\u001b[1;36m\u001b[0m\n",
      "\u001b[1;33m    raise QiskitError(f'No counts for experiment \"{repr(key)}\"')\u001b[0m\n",
      "\u001b[1;31mQiskitError\u001b[0m\u001b[1;31m:\u001b[0m 'No counts for experiment \"<qiskit.circuit.quantumcircuit.QuantumCircuit object at 0x7fb13e191ee0>\"'\n",
      "\n",
      "Use %tb to get the full traceback.\n"
     ]
    },
    {
     "data": {
      "text/html": [
       "\n",
       "<style>\n",
       ".button {\n",
       "  border: none;\n",
       "  color: white;\n",
       "  padding: 4px 8px;\n",
       "  text-align: center;\n",
       "  text-decoration: none;\n",
       "  display: inline-block;\n",
       "  font-size: 12px;\n",
       "  margin: 4px 2px;\n",
       "  transition-duration: 0.2s;\n",
       "  cursor: pointer;\n",
       "}\n",
       ".iqx-button {\n",
       "  background-color: #0f62fe; \n",
       "  color: white; \n",
       "}\n",
       ".iqx-button:hover {\n",
       "  background-color: #0043ce;\n",
       "  color: white;\n",
       "}\n",
       "</style>\n",
       "<a href=\"https://stackoverflow.com/search?q=QiskitError: No counts for experiment \"<qiskit.circuit.quantumcircuit.QuantumCircuit object at 0x7fb13e191ee0>\"\" target='_blank'><button class='button iqx-button'>Search for solution online</button></a>\n"
      ],
      "text/plain": [
       "<IPython.core.display.HTML object>"
      ]
     },
     "metadata": {},
     "output_type": "display_data"
    }
   ],
   "source": [
    "from qiskit import QuantumCircuit, Aer, IBMQ, execute\n",
    "from qiskit import IBMQ, assemble, transpile\n",
    "from qiskit.providers.aer.noise import NoiseModel\n",
    "from qiskit.visualization import plot_histogram\n",
    "\n",
    "IBMQ.save_account('151c59e6f71d7a5c2788c4c846aa50a37456463c6cb37c8ef8d6ef006552e8136b86bcaffb196a892bbd7d9176c1239869df90a56891ef40cc4b849819001e6b',\n",
    "                  hub='ibm-q-education', group='uni-comp-madrid-1', project='architecure-prog', overwrite=True)\n",
    "\n",
    "provider = IBMQ.load_account()\n",
    "backend = provider.backend.ibmq_lima\n",
    "\n",
    "ghz = QuantumCircuit(3,3)\n",
    "ghz.h(0)\n",
    "ghz.cx(0,1)\n",
    "ghz.cx(1,2)\n",
    "ghz.measure_all\n",
    "\n",
    "simulator = Aer.get_backend('qasm_simulator')\n",
    "noise_model = NoiseModel.from_backend(backend)\n",
    "job = execute(ghz, simulator, noise_model=noise_model, shots=1024)\n",
    "results_noise = job.result()\n",
    "\n",
    "job2 = execute(ghz, backend, shots=1024)\n",
    "results_real = job2.result()\n",
    "\n",
    "\n",
    "plot_histogram([results_noise.get_counts(ghz), results_real.get_counts(ghz)], legend=['Noise','Real Computer'])\n"
   ]
  },
  {
   "cell_type": "code",
   "execution_count": 2,
   "id": "0d9aa84f-1c62-49b8-9713-786f54b9093a",
   "metadata": {},
   "outputs": [
    {
     "name": "stderr",
     "output_type": "stream",
     "text": [
      "ibmqfactory.load_account:WARNING:2023-02-22 11:26:14,728: Credentials are already in use. The existing account in the session will be replaced.\n"
     ]
    },
    {
     "name": "stdout",
     "output_type": "stream",
     "text": [
      "Traceback \u001b[1;36m(most recent call last)\u001b[0m:\n",
      "  Input \u001b[0;32mIn [2]\u001b[0m in \u001b[0;35m<cell line: 27>\u001b[0m\n",
      "    plot_histogram([results_noise.get_counts(ghz), results_real.get_counts(ghz)], legend=['Noise','Real Computer'])\n",
      "\u001b[1;36m  File \u001b[1;32m/opt/conda/lib/python3.8/site-packages/qiskit/result/result.py:289\u001b[1;36m in \u001b[1;35mget_counts\u001b[1;36m\u001b[0m\n",
      "\u001b[1;33m    raise QiskitError(f'No counts for experiment \"{repr(key)}\"')\u001b[0m\n",
      "\u001b[1;31mQiskitError\u001b[0m\u001b[1;31m:\u001b[0m 'No counts for experiment \"<qiskit.circuit.quantumcircuit.QuantumCircuit object at 0x7fb0a227e280>\"'\n",
      "\n",
      "Use %tb to get the full traceback.\n"
     ]
    },
    {
     "data": {
      "text/html": [
       "\n",
       "<style>\n",
       ".button {\n",
       "  border: none;\n",
       "  color: white;\n",
       "  padding: 4px 8px;\n",
       "  text-align: center;\n",
       "  text-decoration: none;\n",
       "  display: inline-block;\n",
       "  font-size: 12px;\n",
       "  margin: 4px 2px;\n",
       "  transition-duration: 0.2s;\n",
       "  cursor: pointer;\n",
       "}\n",
       ".iqx-button {\n",
       "  background-color: #0f62fe; \n",
       "  color: white; \n",
       "}\n",
       ".iqx-button:hover {\n",
       "  background-color: #0043ce;\n",
       "  color: white;\n",
       "}\n",
       "</style>\n",
       "<a href=\"https://stackoverflow.com/search?q=QiskitError: No counts for experiment \"<qiskit.circuit.quantumcircuit.QuantumCircuit object at 0x7fb0a227e280>\"\" target='_blank'><button class='button iqx-button'>Search for solution online</button></a>\n"
      ],
      "text/plain": [
       "<IPython.core.display.HTML object>"
      ]
     },
     "metadata": {},
     "output_type": "display_data"
    }
   ],
   "source": [
    "from qiskit import QuantumCircuit, Aer, IBMQ, execute\n",
    "from qiskit import IBMQ, assemble, transpile\n",
    "from qiskit.providers.aer.noise import NoiseModel\n",
    "from qiskit.visualization import plot_histogram\n",
    "\n",
    "IBMQ.save_account('151c59e6f71d7a5c2788c4c846aa50a37456463c6cb37c8ef8d6ef006552e8136b86bcaffb196a892bbd7d9176c1239869df90a56891ef40cc4b849819001e6b',\n",
    "                  hub='ibm-q-education', group='uni-comp-madrid-1', project='architecure-prog', overwrite=True)\n",
    "\n",
    "provider = IBMQ.load_account()\n",
    "backend = provider.backend.ibmq_quito\n",
    "\n",
    "ghz = QuantumCircuit(3,3)\n",
    "ghz.h(0)\n",
    "ghz.cx(0,1)\n",
    "ghz.cx(1,2)\n",
    "ghz.measure_all\n",
    "\n",
    "simulator = Aer.get_backend('qasm_simulator')\n",
    "noise_model = NoiseModel.from_backend(backend)\n",
    "job = execute(ghz, simulator, noise_model=noise_model, shots=1024)\n",
    "results_noise = job.result()\n",
    "\n",
    "job2 = execute(ghz, backend, shots=1024)\n",
    "results_real = job2.result()\n",
    "\n",
    "\n",
    "plot_histogram([results_noise.get_counts(ghz), results_real.get_counts(ghz)], legend=['Noise','Real Computer'])\n"
   ]
  },
  {
   "cell_type": "code",
   "execution_count": null,
   "id": "4f16b120-d005-4477-b00d-6833590a4e69",
   "metadata": {},
   "outputs": [],
   "source": []
  }
 ],
 "metadata": {
  "kernelspec": {
   "display_name": "Python 3 (ipykernel)",
   "language": "python",
   "name": "python3"
  },
  "language_info": {
   "codemirror_mode": {
    "name": "ipython",
    "version": 3
   },
   "file_extension": ".py",
   "mimetype": "text/x-python",
   "name": "python",
   "nbconvert_exporter": "python",
   "pygments_lexer": "ipython3",
   "version": "3.8.15"
  },
  "widgets": {
   "application/vnd.jupyter.widget-state+json": {
    "state": {},
    "version_major": 2,
    "version_minor": 0
   }
  }
 },
 "nbformat": 4,
 "nbformat_minor": 5
}
